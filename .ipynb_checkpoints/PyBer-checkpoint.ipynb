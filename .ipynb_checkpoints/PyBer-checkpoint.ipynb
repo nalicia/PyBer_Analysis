{
 "cells": [
  {
   "cell_type": "code",
   "execution_count": 186,
   "id": "38da1089",
   "metadata": {},
   "outputs": [],
   "source": [
    "# Add Matplotlib inline magic command\n",
    "%matplotlib inline\n",
    "# Dependencies and Setup\n",
    "import matplotlib.pyplot as plt\n",
    "import pandas as pd"
   ]
  },
  {
   "cell_type": "code",
   "execution_count": 187,
   "id": "91754f95",
   "metadata": {},
   "outputs": [],
   "source": [
    "# Files to load\n",
    "city_data_to_load = \"Resources/city_data.csv\"\n",
    "ride_data_to_load = \"Resources/ride_data.csv\""
   ]
  },
  {
   "cell_type": "code",
   "execution_count": 188,
   "id": "1a2114c8",
   "metadata": {},
   "outputs": [
    {
     "data": {
      "text/html": [
       "<div>\n",
       "<style scoped>\n",
       "    .dataframe tbody tr th:only-of-type {\n",
       "        vertical-align: middle;\n",
       "    }\n",
       "\n",
       "    .dataframe tbody tr th {\n",
       "        vertical-align: top;\n",
       "    }\n",
       "\n",
       "    .dataframe thead th {\n",
       "        text-align: right;\n",
       "    }\n",
       "</style>\n",
       "<table border=\"1\" class=\"dataframe\">\n",
       "  <thead>\n",
       "    <tr style=\"text-align: right;\">\n",
       "      <th></th>\n",
       "      <th>city</th>\n",
       "      <th>driver_count</th>\n",
       "      <th>type</th>\n",
       "    </tr>\n",
       "  </thead>\n",
       "  <tbody>\n",
       "    <tr>\n",
       "      <th>0</th>\n",
       "      <td>Richardfort</td>\n",
       "      <td>38</td>\n",
       "      <td>Urban</td>\n",
       "    </tr>\n",
       "    <tr>\n",
       "      <th>1</th>\n",
       "      <td>Williamsstad</td>\n",
       "      <td>59</td>\n",
       "      <td>Urban</td>\n",
       "    </tr>\n",
       "    <tr>\n",
       "      <th>2</th>\n",
       "      <td>Port Angela</td>\n",
       "      <td>67</td>\n",
       "      <td>Urban</td>\n",
       "    </tr>\n",
       "    <tr>\n",
       "      <th>3</th>\n",
       "      <td>Rodneyfort</td>\n",
       "      <td>34</td>\n",
       "      <td>Urban</td>\n",
       "    </tr>\n",
       "    <tr>\n",
       "      <th>4</th>\n",
       "      <td>West Robert</td>\n",
       "      <td>39</td>\n",
       "      <td>Urban</td>\n",
       "    </tr>\n",
       "    <tr>\n",
       "      <th>...</th>\n",
       "      <td>...</td>\n",
       "      <td>...</td>\n",
       "      <td>...</td>\n",
       "    </tr>\n",
       "    <tr>\n",
       "      <th>115</th>\n",
       "      <td>Bradshawfurt</td>\n",
       "      <td>7</td>\n",
       "      <td>Rural</td>\n",
       "    </tr>\n",
       "    <tr>\n",
       "      <th>116</th>\n",
       "      <td>New Ryantown</td>\n",
       "      <td>2</td>\n",
       "      <td>Rural</td>\n",
       "    </tr>\n",
       "    <tr>\n",
       "      <th>117</th>\n",
       "      <td>Randallchester</td>\n",
       "      <td>9</td>\n",
       "      <td>Rural</td>\n",
       "    </tr>\n",
       "    <tr>\n",
       "      <th>118</th>\n",
       "      <td>Jessicaport</td>\n",
       "      <td>1</td>\n",
       "      <td>Rural</td>\n",
       "    </tr>\n",
       "    <tr>\n",
       "      <th>119</th>\n",
       "      <td>South Saramouth</td>\n",
       "      <td>7</td>\n",
       "      <td>Rural</td>\n",
       "    </tr>\n",
       "  </tbody>\n",
       "</table>\n",
       "<p>120 rows × 3 columns</p>\n",
       "</div>"
      ],
      "text/plain": [
       "                city  driver_count   type\n",
       "0        Richardfort            38  Urban\n",
       "1       Williamsstad            59  Urban\n",
       "2        Port Angela            67  Urban\n",
       "3         Rodneyfort            34  Urban\n",
       "4        West Robert            39  Urban\n",
       "..               ...           ...    ...\n",
       "115     Bradshawfurt             7  Rural\n",
       "116     New Ryantown             2  Rural\n",
       "117   Randallchester             9  Rural\n",
       "118      Jessicaport             1  Rural\n",
       "119  South Saramouth             7  Rural\n",
       "\n",
       "[120 rows x 3 columns]"
      ]
     },
     "execution_count": 188,
     "metadata": {},
     "output_type": "execute_result"
    }
   ],
   "source": [
    "pd.read_csv(city_data_to_load)"
   ]
  },
  {
   "cell_type": "code",
   "execution_count": 189,
   "id": "4362a944",
   "metadata": {},
   "outputs": [
    {
     "data": {
      "text/html": [
       "<div>\n",
       "<style scoped>\n",
       "    .dataframe tbody tr th:only-of-type {\n",
       "        vertical-align: middle;\n",
       "    }\n",
       "\n",
       "    .dataframe tbody tr th {\n",
       "        vertical-align: top;\n",
       "    }\n",
       "\n",
       "    .dataframe thead th {\n",
       "        text-align: right;\n",
       "    }\n",
       "</style>\n",
       "<table border=\"1\" class=\"dataframe\">\n",
       "  <thead>\n",
       "    <tr style=\"text-align: right;\">\n",
       "      <th></th>\n",
       "      <th>city</th>\n",
       "      <th>date</th>\n",
       "      <th>fare</th>\n",
       "      <th>ride_id</th>\n",
       "    </tr>\n",
       "  </thead>\n",
       "  <tbody>\n",
       "    <tr>\n",
       "      <th>0</th>\n",
       "      <td>Lake Jonathanshire</td>\n",
       "      <td>2019-01-14 10:14:22</td>\n",
       "      <td>13.83</td>\n",
       "      <td>5739410935873</td>\n",
       "    </tr>\n",
       "    <tr>\n",
       "      <th>1</th>\n",
       "      <td>South Michelleport</td>\n",
       "      <td>2019-03-04 18:24:09</td>\n",
       "      <td>30.24</td>\n",
       "      <td>2343912425577</td>\n",
       "    </tr>\n",
       "    <tr>\n",
       "      <th>2</th>\n",
       "      <td>Port Samanthamouth</td>\n",
       "      <td>2019-02-24 04:29:00</td>\n",
       "      <td>33.44</td>\n",
       "      <td>2005065760003</td>\n",
       "    </tr>\n",
       "    <tr>\n",
       "      <th>3</th>\n",
       "      <td>Rodneyfort</td>\n",
       "      <td>2019-02-10 23:22:03</td>\n",
       "      <td>23.44</td>\n",
       "      <td>5149245426178</td>\n",
       "    </tr>\n",
       "    <tr>\n",
       "      <th>4</th>\n",
       "      <td>South Jack</td>\n",
       "      <td>2019-03-06 04:28:35</td>\n",
       "      <td>34.58</td>\n",
       "      <td>3908451377344</td>\n",
       "    </tr>\n",
       "    <tr>\n",
       "      <th>...</th>\n",
       "      <td>...</td>\n",
       "      <td>...</td>\n",
       "      <td>...</td>\n",
       "      <td>...</td>\n",
       "    </tr>\n",
       "    <tr>\n",
       "      <th>2370</th>\n",
       "      <td>Michaelberg</td>\n",
       "      <td>2019-04-29 17:04:39</td>\n",
       "      <td>13.38</td>\n",
       "      <td>8550365057598</td>\n",
       "    </tr>\n",
       "    <tr>\n",
       "      <th>2371</th>\n",
       "      <td>Lake Latoyabury</td>\n",
       "      <td>2019-01-30 00:05:47</td>\n",
       "      <td>20.76</td>\n",
       "      <td>9018727594352</td>\n",
       "    </tr>\n",
       "    <tr>\n",
       "      <th>2372</th>\n",
       "      <td>North Jaime</td>\n",
       "      <td>2019-02-10 21:03:50</td>\n",
       "      <td>11.11</td>\n",
       "      <td>2781339863778</td>\n",
       "    </tr>\n",
       "    <tr>\n",
       "      <th>2373</th>\n",
       "      <td>West Heather</td>\n",
       "      <td>2019-05-07 19:22:15</td>\n",
       "      <td>44.94</td>\n",
       "      <td>4256853490277</td>\n",
       "    </tr>\n",
       "    <tr>\n",
       "      <th>2374</th>\n",
       "      <td>Newtonview</td>\n",
       "      <td>2019-04-25 10:20:13</td>\n",
       "      <td>55.84</td>\n",
       "      <td>9990581345298</td>\n",
       "    </tr>\n",
       "  </tbody>\n",
       "</table>\n",
       "<p>2375 rows × 4 columns</p>\n",
       "</div>"
      ],
      "text/plain": [
       "                    city                 date   fare        ride_id\n",
       "0     Lake Jonathanshire  2019-01-14 10:14:22  13.83  5739410935873\n",
       "1     South Michelleport  2019-03-04 18:24:09  30.24  2343912425577\n",
       "2     Port Samanthamouth  2019-02-24 04:29:00  33.44  2005065760003\n",
       "3             Rodneyfort  2019-02-10 23:22:03  23.44  5149245426178\n",
       "4             South Jack  2019-03-06 04:28:35  34.58  3908451377344\n",
       "...                  ...                  ...    ...            ...\n",
       "2370         Michaelberg  2019-04-29 17:04:39  13.38  8550365057598\n",
       "2371     Lake Latoyabury  2019-01-30 00:05:47  20.76  9018727594352\n",
       "2372         North Jaime  2019-02-10 21:03:50  11.11  2781339863778\n",
       "2373        West Heather  2019-05-07 19:22:15  44.94  4256853490277\n",
       "2374          Newtonview  2019-04-25 10:20:13  55.84  9990581345298\n",
       "\n",
       "[2375 rows x 4 columns]"
      ]
     },
     "execution_count": 189,
     "metadata": {},
     "output_type": "execute_result"
    }
   ],
   "source": [
    "pd.read_csv(ride_data_to_load)"
   ]
  },
  {
   "cell_type": "code",
   "execution_count": 190,
   "id": "7835940a",
   "metadata": {},
   "outputs": [
    {
     "data": {
      "text/html": [
       "<div>\n",
       "<style scoped>\n",
       "    .dataframe tbody tr th:only-of-type {\n",
       "        vertical-align: middle;\n",
       "    }\n",
       "\n",
       "    .dataframe tbody tr th {\n",
       "        vertical-align: top;\n",
       "    }\n",
       "\n",
       "    .dataframe thead th {\n",
       "        text-align: right;\n",
       "    }\n",
       "</style>\n",
       "<table border=\"1\" class=\"dataframe\">\n",
       "  <thead>\n",
       "    <tr style=\"text-align: right;\">\n",
       "      <th></th>\n",
       "      <th>city</th>\n",
       "      <th>driver_count</th>\n",
       "      <th>type</th>\n",
       "    </tr>\n",
       "  </thead>\n",
       "  <tbody>\n",
       "    <tr>\n",
       "      <th>0</th>\n",
       "      <td>Richardfort</td>\n",
       "      <td>38</td>\n",
       "      <td>Urban</td>\n",
       "    </tr>\n",
       "    <tr>\n",
       "      <th>1</th>\n",
       "      <td>Williamsstad</td>\n",
       "      <td>59</td>\n",
       "      <td>Urban</td>\n",
       "    </tr>\n",
       "    <tr>\n",
       "      <th>2</th>\n",
       "      <td>Port Angela</td>\n",
       "      <td>67</td>\n",
       "      <td>Urban</td>\n",
       "    </tr>\n",
       "    <tr>\n",
       "      <th>3</th>\n",
       "      <td>Rodneyfort</td>\n",
       "      <td>34</td>\n",
       "      <td>Urban</td>\n",
       "    </tr>\n",
       "    <tr>\n",
       "      <th>4</th>\n",
       "      <td>West Robert</td>\n",
       "      <td>39</td>\n",
       "      <td>Urban</td>\n",
       "    </tr>\n",
       "    <tr>\n",
       "      <th>5</th>\n",
       "      <td>West Anthony</td>\n",
       "      <td>70</td>\n",
       "      <td>Urban</td>\n",
       "    </tr>\n",
       "    <tr>\n",
       "      <th>6</th>\n",
       "      <td>West Angela</td>\n",
       "      <td>48</td>\n",
       "      <td>Urban</td>\n",
       "    </tr>\n",
       "    <tr>\n",
       "      <th>7</th>\n",
       "      <td>Martinezhaven</td>\n",
       "      <td>25</td>\n",
       "      <td>Urban</td>\n",
       "    </tr>\n",
       "    <tr>\n",
       "      <th>8</th>\n",
       "      <td>Karenberg</td>\n",
       "      <td>22</td>\n",
       "      <td>Urban</td>\n",
       "    </tr>\n",
       "    <tr>\n",
       "      <th>9</th>\n",
       "      <td>Barajasview</td>\n",
       "      <td>26</td>\n",
       "      <td>Urban</td>\n",
       "    </tr>\n",
       "  </tbody>\n",
       "</table>\n",
       "</div>"
      ],
      "text/plain": [
       "            city  driver_count   type\n",
       "0    Richardfort            38  Urban\n",
       "1   Williamsstad            59  Urban\n",
       "2    Port Angela            67  Urban\n",
       "3     Rodneyfort            34  Urban\n",
       "4    West Robert            39  Urban\n",
       "5   West Anthony            70  Urban\n",
       "6    West Angela            48  Urban\n",
       "7  Martinezhaven            25  Urban\n",
       "8      Karenberg            22  Urban\n",
       "9    Barajasview            26  Urban"
      ]
     },
     "execution_count": 190,
     "metadata": {},
     "output_type": "execute_result"
    }
   ],
   "source": [
    "# Read the city data file and store it in a pandas dataframe\n",
    "city_data_df = pd.read_csv(city_data_to_load)\n",
    "city_data_df.head(10)"
   ]
  },
  {
   "cell_type": "code",
   "execution_count": 191,
   "id": "a4bee010",
   "metadata": {},
   "outputs": [
    {
     "data": {
      "text/html": [
       "<div>\n",
       "<style scoped>\n",
       "    .dataframe tbody tr th:only-of-type {\n",
       "        vertical-align: middle;\n",
       "    }\n",
       "\n",
       "    .dataframe tbody tr th {\n",
       "        vertical-align: top;\n",
       "    }\n",
       "\n",
       "    .dataframe thead th {\n",
       "        text-align: right;\n",
       "    }\n",
       "</style>\n",
       "<table border=\"1\" class=\"dataframe\">\n",
       "  <thead>\n",
       "    <tr style=\"text-align: right;\">\n",
       "      <th></th>\n",
       "      <th>city</th>\n",
       "      <th>date</th>\n",
       "      <th>fare</th>\n",
       "      <th>ride_id</th>\n",
       "    </tr>\n",
       "  </thead>\n",
       "  <tbody>\n",
       "    <tr>\n",
       "      <th>0</th>\n",
       "      <td>Lake Jonathanshire</td>\n",
       "      <td>2019-01-14 10:14:22</td>\n",
       "      <td>13.83</td>\n",
       "      <td>5739410935873</td>\n",
       "    </tr>\n",
       "    <tr>\n",
       "      <th>1</th>\n",
       "      <td>South Michelleport</td>\n",
       "      <td>2019-03-04 18:24:09</td>\n",
       "      <td>30.24</td>\n",
       "      <td>2343912425577</td>\n",
       "    </tr>\n",
       "    <tr>\n",
       "      <th>2</th>\n",
       "      <td>Port Samanthamouth</td>\n",
       "      <td>2019-02-24 04:29:00</td>\n",
       "      <td>33.44</td>\n",
       "      <td>2005065760003</td>\n",
       "    </tr>\n",
       "    <tr>\n",
       "      <th>3</th>\n",
       "      <td>Rodneyfort</td>\n",
       "      <td>2019-02-10 23:22:03</td>\n",
       "      <td>23.44</td>\n",
       "      <td>5149245426178</td>\n",
       "    </tr>\n",
       "    <tr>\n",
       "      <th>4</th>\n",
       "      <td>South Jack</td>\n",
       "      <td>2019-03-06 04:28:35</td>\n",
       "      <td>34.58</td>\n",
       "      <td>3908451377344</td>\n",
       "    </tr>\n",
       "    <tr>\n",
       "      <th>5</th>\n",
       "      <td>South Latoya</td>\n",
       "      <td>2019-03-11 12:26:48</td>\n",
       "      <td>9.52</td>\n",
       "      <td>1994999424437</td>\n",
       "    </tr>\n",
       "    <tr>\n",
       "      <th>6</th>\n",
       "      <td>New Paulville</td>\n",
       "      <td>2019-02-27 11:17:56</td>\n",
       "      <td>43.25</td>\n",
       "      <td>793208410091</td>\n",
       "    </tr>\n",
       "    <tr>\n",
       "      <th>7</th>\n",
       "      <td>Simpsonburgh</td>\n",
       "      <td>2019-04-26 00:43:24</td>\n",
       "      <td>35.98</td>\n",
       "      <td>111953927754</td>\n",
       "    </tr>\n",
       "    <tr>\n",
       "      <th>8</th>\n",
       "      <td>South Karenland</td>\n",
       "      <td>2019-01-08 03:28:48</td>\n",
       "      <td>35.09</td>\n",
       "      <td>7995623208694</td>\n",
       "    </tr>\n",
       "    <tr>\n",
       "      <th>9</th>\n",
       "      <td>North Jasmine</td>\n",
       "      <td>2019-03-09 06:26:29</td>\n",
       "      <td>42.81</td>\n",
       "      <td>5327642267789</td>\n",
       "    </tr>\n",
       "  </tbody>\n",
       "</table>\n",
       "</div>"
      ],
      "text/plain": [
       "                 city                 date   fare        ride_id\n",
       "0  Lake Jonathanshire  2019-01-14 10:14:22  13.83  5739410935873\n",
       "1  South Michelleport  2019-03-04 18:24:09  30.24  2343912425577\n",
       "2  Port Samanthamouth  2019-02-24 04:29:00  33.44  2005065760003\n",
       "3          Rodneyfort  2019-02-10 23:22:03  23.44  5149245426178\n",
       "4          South Jack  2019-03-06 04:28:35  34.58  3908451377344\n",
       "5        South Latoya  2019-03-11 12:26:48   9.52  1994999424437\n",
       "6       New Paulville  2019-02-27 11:17:56  43.25   793208410091\n",
       "7        Simpsonburgh  2019-04-26 00:43:24  35.98   111953927754\n",
       "8     South Karenland  2019-01-08 03:28:48  35.09  7995623208694\n",
       "9       North Jasmine  2019-03-09 06:26:29  42.81  5327642267789"
      ]
     },
     "execution_count": 191,
     "metadata": {},
     "output_type": "execute_result"
    }
   ],
   "source": [
    "# Read the ride data file and store it un a pandas Dataframe.\n",
    "ride_data_df = pd.read_csv(ride_data_to_load)\n",
    "ride_data_df.head(10)"
   ]
  },
  {
   "cell_type": "code",
   "execution_count": 192,
   "id": "0104f382",
   "metadata": {},
   "outputs": [
    {
     "data": {
      "text/plain": [
       "city            120\n",
       "driver_count    120\n",
       "type            120\n",
       "dtype: int64"
      ]
     },
     "execution_count": 192,
     "metadata": {},
     "output_type": "execute_result"
    }
   ],
   "source": [
    "# Get the columns and the rows that are not null.\n",
    "city_data_df.count()"
   ]
  },
  {
   "cell_type": "code",
   "execution_count": 193,
   "id": "99e6a970",
   "metadata": {},
   "outputs": [
    {
     "data": {
      "text/plain": [
       "city            0\n",
       "driver_count    0\n",
       "type            0\n",
       "dtype: int64"
      ]
     },
     "execution_count": 193,
     "metadata": {},
     "output_type": "execute_result"
    }
   ],
   "source": [
    "# get the columns and the rows that are not null.\n",
    "city_data_df.isnull().sum()"
   ]
  },
  {
   "cell_type": "code",
   "execution_count": 194,
   "id": "08ab9142",
   "metadata": {},
   "outputs": [
    {
     "data": {
      "text/plain": [
       "city            object\n",
       "driver_count     int64\n",
       "type            object\n",
       "dtype: object"
      ]
     },
     "execution_count": 194,
     "metadata": {},
     "output_type": "execute_result"
    }
   ],
   "source": [
    "# Get the data types of each column\n",
    "city_data_df.dtypes"
   ]
  },
  {
   "cell_type": "code",
   "execution_count": 195,
   "id": "96f37b2c",
   "metadata": {},
   "outputs": [
    {
     "data": {
      "text/plain": [
       "array(['Urban', 'Suburban', 'Rural'], dtype=object)"
      ]
     },
     "execution_count": 195,
     "metadata": {},
     "output_type": "execute_result"
    }
   ],
   "source": [
    "# Get the unique values of the type of city.\n",
    "city_data_df[\"type\"].unique()"
   ]
  },
  {
   "cell_type": "code",
   "execution_count": 196,
   "id": "d014fcf0",
   "metadata": {},
   "outputs": [
    {
     "data": {
      "text/plain": [
       "66"
      ]
     },
     "execution_count": 196,
     "metadata": {},
     "output_type": "execute_result"
    }
   ],
   "source": [
    "# Get the number of data points from the Urban cities\n",
    "sum(city_data_df[\"type\"]==\"Urban\")"
   ]
  },
  {
   "cell_type": "code",
   "execution_count": 197,
   "id": "a114ecdf",
   "metadata": {},
   "outputs": [
    {
     "data": {
      "text/plain": [
       "36"
      ]
     },
     "execution_count": 197,
     "metadata": {},
     "output_type": "execute_result"
    }
   ],
   "source": [
    "# Get the number of data points from the Suburban cities\n",
    "sum(city_data_df[\"type\"]== \"Suburban\")"
   ]
  },
  {
   "cell_type": "code",
   "execution_count": 198,
   "id": "a6f3a0e9",
   "metadata": {},
   "outputs": [
    {
     "data": {
      "text/plain": [
       "18"
      ]
     },
     "execution_count": 198,
     "metadata": {},
     "output_type": "execute_result"
    }
   ],
   "source": [
    "# Get the number of data points from the Rural cities\n",
    "sum(city_data_df[\"type\"]== \"Rural\")"
   ]
  },
  {
   "cell_type": "code",
   "execution_count": 199,
   "id": "717df090",
   "metadata": {},
   "outputs": [
    {
     "data": {
      "text/plain": [
       "city       2375\n",
       "date       2375\n",
       "fare       2375\n",
       "ride_id    2375\n",
       "dtype: int64"
      ]
     },
     "execution_count": 199,
     "metadata": {},
     "output_type": "execute_result"
    }
   ],
   "source": [
    "# Get the columns and the rows that are not null.\n",
    "ride_data_df.count()"
   ]
  },
  {
   "cell_type": "code",
   "execution_count": 200,
   "id": "bda610bb",
   "metadata": {},
   "outputs": [
    {
     "data": {
      "text/plain": [
       "city       0\n",
       "date       0\n",
       "fare       0\n",
       "ride_id    0\n",
       "dtype: int64"
      ]
     },
     "execution_count": 200,
     "metadata": {},
     "output_type": "execute_result"
    }
   ],
   "source": [
    "# Get the columns and the rows that are not null.\n",
    "ride_data_df.isnull().sum()"
   ]
  },
  {
   "cell_type": "code",
   "execution_count": 201,
   "id": "17792173",
   "metadata": {},
   "outputs": [
    {
     "data": {
      "text/plain": [
       "city        object\n",
       "date        object\n",
       "fare       float64\n",
       "ride_id      int64\n",
       "dtype: object"
      ]
     },
     "execution_count": 201,
     "metadata": {},
     "output_type": "execute_result"
    }
   ],
   "source": [
    "# Get the data types of each column.\n",
    "ride_data_df.dtypes"
   ]
  },
  {
   "cell_type": "code",
   "execution_count": 202,
   "id": "345dcb9d",
   "metadata": {},
   "outputs": [
    {
     "data": {
      "text/html": [
       "<div>\n",
       "<style scoped>\n",
       "    .dataframe tbody tr th:only-of-type {\n",
       "        vertical-align: middle;\n",
       "    }\n",
       "\n",
       "    .dataframe tbody tr th {\n",
       "        vertical-align: top;\n",
       "    }\n",
       "\n",
       "    .dataframe thead th {\n",
       "        text-align: right;\n",
       "    }\n",
       "</style>\n",
       "<table border=\"1\" class=\"dataframe\">\n",
       "  <thead>\n",
       "    <tr style=\"text-align: right;\">\n",
       "      <th></th>\n",
       "      <th>city</th>\n",
       "      <th>date</th>\n",
       "      <th>fare</th>\n",
       "      <th>ride_id</th>\n",
       "      <th>driver_count</th>\n",
       "      <th>type</th>\n",
       "    </tr>\n",
       "  </thead>\n",
       "  <tbody>\n",
       "    <tr>\n",
       "      <th>0</th>\n",
       "      <td>Lake Jonathanshire</td>\n",
       "      <td>2019-01-14 10:14:22</td>\n",
       "      <td>13.83</td>\n",
       "      <td>5739410935873</td>\n",
       "      <td>5</td>\n",
       "      <td>Urban</td>\n",
       "    </tr>\n",
       "    <tr>\n",
       "      <th>1</th>\n",
       "      <td>South Michelleport</td>\n",
       "      <td>2019-03-04 18:24:09</td>\n",
       "      <td>30.24</td>\n",
       "      <td>2343912425577</td>\n",
       "      <td>72</td>\n",
       "      <td>Urban</td>\n",
       "    </tr>\n",
       "    <tr>\n",
       "      <th>2</th>\n",
       "      <td>Port Samanthamouth</td>\n",
       "      <td>2019-02-24 04:29:00</td>\n",
       "      <td>33.44</td>\n",
       "      <td>2005065760003</td>\n",
       "      <td>57</td>\n",
       "      <td>Urban</td>\n",
       "    </tr>\n",
       "    <tr>\n",
       "      <th>3</th>\n",
       "      <td>Rodneyfort</td>\n",
       "      <td>2019-02-10 23:22:03</td>\n",
       "      <td>23.44</td>\n",
       "      <td>5149245426178</td>\n",
       "      <td>34</td>\n",
       "      <td>Urban</td>\n",
       "    </tr>\n",
       "    <tr>\n",
       "      <th>4</th>\n",
       "      <td>South Jack</td>\n",
       "      <td>2019-03-06 04:28:35</td>\n",
       "      <td>34.58</td>\n",
       "      <td>3908451377344</td>\n",
       "      <td>46</td>\n",
       "      <td>Urban</td>\n",
       "    </tr>\n",
       "  </tbody>\n",
       "</table>\n",
       "</div>"
      ],
      "text/plain": [
       "                 city                 date   fare        ride_id  \\\n",
       "0  Lake Jonathanshire  2019-01-14 10:14:22  13.83  5739410935873   \n",
       "1  South Michelleport  2019-03-04 18:24:09  30.24  2343912425577   \n",
       "2  Port Samanthamouth  2019-02-24 04:29:00  33.44  2005065760003   \n",
       "3          Rodneyfort  2019-02-10 23:22:03  23.44  5149245426178   \n",
       "4          South Jack  2019-03-06 04:28:35  34.58  3908451377344   \n",
       "\n",
       "   driver_count   type  \n",
       "0             5  Urban  \n",
       "1            72  Urban  \n",
       "2            57  Urban  \n",
       "3            34  Urban  \n",
       "4            46  Urban  "
      ]
     },
     "execution_count": 202,
     "metadata": {},
     "output_type": "execute_result"
    }
   ],
   "source": [
    "# Combine the data into a single dataset\n",
    "pyber_data_df = pd.merge(ride_data_df, city_data_df, how=\"left\", on=[\"city\", \"city\"])\n",
    "\n",
    "# Display the DataFrame\n",
    "pyber_data_df.head()"
   ]
  },
  {
   "cell_type": "code",
   "execution_count": 203,
   "id": "6a7a9b87",
   "metadata": {},
   "outputs": [
    {
     "data": {
      "text/html": [
       "<div>\n",
       "<style scoped>\n",
       "    .dataframe tbody tr th:only-of-type {\n",
       "        vertical-align: middle;\n",
       "    }\n",
       "\n",
       "    .dataframe tbody tr th {\n",
       "        vertical-align: top;\n",
       "    }\n",
       "\n",
       "    .dataframe thead th {\n",
       "        text-align: right;\n",
       "    }\n",
       "</style>\n",
       "<table border=\"1\" class=\"dataframe\">\n",
       "  <thead>\n",
       "    <tr style=\"text-align: right;\">\n",
       "      <th></th>\n",
       "      <th>city</th>\n",
       "      <th>date</th>\n",
       "      <th>fare</th>\n",
       "      <th>ride_id</th>\n",
       "      <th>driver_count</th>\n",
       "      <th>type</th>\n",
       "    </tr>\n",
       "  </thead>\n",
       "  <tbody>\n",
       "    <tr>\n",
       "      <th>0</th>\n",
       "      <td>Lake Jonathanshire</td>\n",
       "      <td>2019-01-14 10:14:22</td>\n",
       "      <td>13.83</td>\n",
       "      <td>5739410935873</td>\n",
       "      <td>5</td>\n",
       "      <td>Urban</td>\n",
       "    </tr>\n",
       "    <tr>\n",
       "      <th>1</th>\n",
       "      <td>South Michelleport</td>\n",
       "      <td>2019-03-04 18:24:09</td>\n",
       "      <td>30.24</td>\n",
       "      <td>2343912425577</td>\n",
       "      <td>72</td>\n",
       "      <td>Urban</td>\n",
       "    </tr>\n",
       "    <tr>\n",
       "      <th>2</th>\n",
       "      <td>Port Samanthamouth</td>\n",
       "      <td>2019-02-24 04:29:00</td>\n",
       "      <td>33.44</td>\n",
       "      <td>2005065760003</td>\n",
       "      <td>57</td>\n",
       "      <td>Urban</td>\n",
       "    </tr>\n",
       "    <tr>\n",
       "      <th>3</th>\n",
       "      <td>Rodneyfort</td>\n",
       "      <td>2019-02-10 23:22:03</td>\n",
       "      <td>23.44</td>\n",
       "      <td>5149245426178</td>\n",
       "      <td>34</td>\n",
       "      <td>Urban</td>\n",
       "    </tr>\n",
       "    <tr>\n",
       "      <th>4</th>\n",
       "      <td>South Jack</td>\n",
       "      <td>2019-03-06 04:28:35</td>\n",
       "      <td>34.58</td>\n",
       "      <td>3908451377344</td>\n",
       "      <td>46</td>\n",
       "      <td>Urban</td>\n",
       "    </tr>\n",
       "  </tbody>\n",
       "</table>\n",
       "</div>"
      ],
      "text/plain": [
       "                 city                 date   fare        ride_id  \\\n",
       "0  Lake Jonathanshire  2019-01-14 10:14:22  13.83  5739410935873   \n",
       "1  South Michelleport  2019-03-04 18:24:09  30.24  2343912425577   \n",
       "2  Port Samanthamouth  2019-02-24 04:29:00  33.44  2005065760003   \n",
       "3          Rodneyfort  2019-02-10 23:22:03  23.44  5149245426178   \n",
       "4          South Jack  2019-03-06 04:28:35  34.58  3908451377344   \n",
       "\n",
       "   driver_count   type  \n",
       "0             5  Urban  \n",
       "1            72  Urban  \n",
       "2            57  Urban  \n",
       "3            34  Urban  \n",
       "4            46  Urban  "
      ]
     },
     "execution_count": 203,
     "metadata": {},
     "output_type": "execute_result"
    }
   ],
   "source": [
    "# Create the urban city DataFrame.\n",
    "urban_cities_df = pyber_data_df[pyber_data_df[\"type\"]==\"Urban\"]\n",
    "urban_cities_df.head()"
   ]
  },
  {
   "cell_type": "code",
   "execution_count": 204,
   "id": "ec0714d7",
   "metadata": {},
   "outputs": [],
   "source": [
    "# Create the Suburban and Rural city DataFrames.\n",
    "suburban_cities_df = pyber_data_df[pyber_data_df[\"type\"] == \"Suburban\"]\n",
    "rural_cities_df = pyber_data_df[pyber_data_df[\"type\"] == \"Rural\"]"
   ]
  },
  {
   "cell_type": "code",
   "execution_count": 205,
   "id": "90e4b838",
   "metadata": {},
   "outputs": [
    {
     "data": {
      "text/html": [
       "<div>\n",
       "<style scoped>\n",
       "    .dataframe tbody tr th:only-of-type {\n",
       "        vertical-align: middle;\n",
       "    }\n",
       "\n",
       "    .dataframe tbody tr th {\n",
       "        vertical-align: top;\n",
       "    }\n",
       "\n",
       "    .dataframe thead th {\n",
       "        text-align: right;\n",
       "    }\n",
       "</style>\n",
       "<table border=\"1\" class=\"dataframe\">\n",
       "  <thead>\n",
       "    <tr style=\"text-align: right;\">\n",
       "      <th></th>\n",
       "      <th>city</th>\n",
       "      <th>date</th>\n",
       "      <th>fare</th>\n",
       "      <th>ride_id</th>\n",
       "      <th>driver_count</th>\n",
       "      <th>type</th>\n",
       "    </tr>\n",
       "  </thead>\n",
       "  <tbody>\n",
       "    <tr>\n",
       "      <th>2250</th>\n",
       "      <td>Randallchester</td>\n",
       "      <td>2019-04-13 11:13:31</td>\n",
       "      <td>43.22</td>\n",
       "      <td>1076079536213</td>\n",
       "      <td>9</td>\n",
       "      <td>Rural</td>\n",
       "    </tr>\n",
       "    <tr>\n",
       "      <th>2251</th>\n",
       "      <td>North Holly</td>\n",
       "      <td>2019-02-02 14:54:00</td>\n",
       "      <td>12.42</td>\n",
       "      <td>1985256326182</td>\n",
       "      <td>8</td>\n",
       "      <td>Rural</td>\n",
       "    </tr>\n",
       "    <tr>\n",
       "      <th>2252</th>\n",
       "      <td>Michaelberg</td>\n",
       "      <td>2019-03-27 18:27:34</td>\n",
       "      <td>54.85</td>\n",
       "      <td>4421836952718</td>\n",
       "      <td>6</td>\n",
       "      <td>Rural</td>\n",
       "    </tr>\n",
       "    <tr>\n",
       "      <th>2253</th>\n",
       "      <td>Lake Latoyabury</td>\n",
       "      <td>2019-02-23 21:12:24</td>\n",
       "      <td>47.90</td>\n",
       "      <td>3269652929887</td>\n",
       "      <td>2</td>\n",
       "      <td>Rural</td>\n",
       "    </tr>\n",
       "    <tr>\n",
       "      <th>2254</th>\n",
       "      <td>Lake Latoyabury</td>\n",
       "      <td>2019-05-06 08:57:56</td>\n",
       "      <td>51.80</td>\n",
       "      <td>4018025271936</td>\n",
       "      <td>2</td>\n",
       "      <td>Rural</td>\n",
       "    </tr>\n",
       "    <tr>\n",
       "      <th>...</th>\n",
       "      <td>...</td>\n",
       "      <td>...</td>\n",
       "      <td>...</td>\n",
       "      <td>...</td>\n",
       "      <td>...</td>\n",
       "      <td>...</td>\n",
       "    </tr>\n",
       "    <tr>\n",
       "      <th>2370</th>\n",
       "      <td>Michaelberg</td>\n",
       "      <td>2019-04-29 17:04:39</td>\n",
       "      <td>13.38</td>\n",
       "      <td>8550365057598</td>\n",
       "      <td>6</td>\n",
       "      <td>Rural</td>\n",
       "    </tr>\n",
       "    <tr>\n",
       "      <th>2371</th>\n",
       "      <td>Lake Latoyabury</td>\n",
       "      <td>2019-01-30 00:05:47</td>\n",
       "      <td>20.76</td>\n",
       "      <td>9018727594352</td>\n",
       "      <td>2</td>\n",
       "      <td>Rural</td>\n",
       "    </tr>\n",
       "    <tr>\n",
       "      <th>2372</th>\n",
       "      <td>North Jaime</td>\n",
       "      <td>2019-02-10 21:03:50</td>\n",
       "      <td>11.11</td>\n",
       "      <td>2781339863778</td>\n",
       "      <td>1</td>\n",
       "      <td>Rural</td>\n",
       "    </tr>\n",
       "    <tr>\n",
       "      <th>2373</th>\n",
       "      <td>West Heather</td>\n",
       "      <td>2019-05-07 19:22:15</td>\n",
       "      <td>44.94</td>\n",
       "      <td>4256853490277</td>\n",
       "      <td>4</td>\n",
       "      <td>Rural</td>\n",
       "    </tr>\n",
       "    <tr>\n",
       "      <th>2374</th>\n",
       "      <td>Newtonview</td>\n",
       "      <td>2019-04-25 10:20:13</td>\n",
       "      <td>55.84</td>\n",
       "      <td>9990581345298</td>\n",
       "      <td>1</td>\n",
       "      <td>Rural</td>\n",
       "    </tr>\n",
       "  </tbody>\n",
       "</table>\n",
       "<p>125 rows × 6 columns</p>\n",
       "</div>"
      ],
      "text/plain": [
       "                 city                 date   fare        ride_id  \\\n",
       "2250   Randallchester  2019-04-13 11:13:31  43.22  1076079536213   \n",
       "2251      North Holly  2019-02-02 14:54:00  12.42  1985256326182   \n",
       "2252      Michaelberg  2019-03-27 18:27:34  54.85  4421836952718   \n",
       "2253  Lake Latoyabury  2019-02-23 21:12:24  47.90  3269652929887   \n",
       "2254  Lake Latoyabury  2019-05-06 08:57:56  51.80  4018025271936   \n",
       "...               ...                  ...    ...            ...   \n",
       "2370      Michaelberg  2019-04-29 17:04:39  13.38  8550365057598   \n",
       "2371  Lake Latoyabury  2019-01-30 00:05:47  20.76  9018727594352   \n",
       "2372      North Jaime  2019-02-10 21:03:50  11.11  2781339863778   \n",
       "2373     West Heather  2019-05-07 19:22:15  44.94  4256853490277   \n",
       "2374       Newtonview  2019-04-25 10:20:13  55.84  9990581345298   \n",
       "\n",
       "      driver_count   type  \n",
       "2250             9  Rural  \n",
       "2251             8  Rural  \n",
       "2252             6  Rural  \n",
       "2253             2  Rural  \n",
       "2254             2  Rural  \n",
       "...            ...    ...  \n",
       "2370             6  Rural  \n",
       "2371             2  Rural  \n",
       "2372             1  Rural  \n",
       "2373             4  Rural  \n",
       "2374             1  Rural  \n",
       "\n",
       "[125 rows x 6 columns]"
      ]
     },
     "execution_count": 205,
     "metadata": {},
     "output_type": "execute_result"
    }
   ],
   "source": [
    "rural_cities_df"
   ]
  },
  {
   "cell_type": "code",
   "execution_count": 206,
   "id": "1e748c11",
   "metadata": {},
   "outputs": [
    {
     "data": {
      "text/plain": [
       "city\n",
       "Amandaburgh        18\n",
       "Barajasview        22\n",
       "Carriemouth        27\n",
       "Christopherfurt    27\n",
       "Deanville          19\n",
       "Name: ride_id, dtype: int64"
      ]
     },
     "execution_count": 206,
     "metadata": {},
     "output_type": "execute_result"
    }
   ],
   "source": [
    "# Use Groupby() tocreate a series that has name as index\n",
    "# Get the number of rids for urban cities\n",
    "urban_ride_count = urban_cities_df.groupby([\"city\"]).count()[\"ride_id\"]\n",
    "urban_ride_count.head()\n",
    "# We count by the ride id because they are unique and we are using\n",
    "#the urban city one to pull just the rides from that dataframe"
   ]
  },
  {
   "cell_type": "code",
   "execution_count": 207,
   "id": "21095701",
   "metadata": {},
   "outputs": [
    {
     "data": {
      "text/plain": [
       "city\n",
       "Barronchester    16\n",
       "Bethanyland      18\n",
       "Brandonfort      19\n",
       "Colemanland      22\n",
       "Davidfurt        17\n",
       "Name: ride_id, dtype: int64"
      ]
     },
     "execution_count": 207,
     "metadata": {},
     "output_type": "execute_result"
    }
   ],
   "source": [
    "# Create the suburban and rural ride count.\n",
    "suburban_ride_count = suburban_cities_df.groupby([\"city\"]).count()[\"ride_id\"]\n",
    "suburban_ride_count.head()"
   ]
  },
  {
   "cell_type": "code",
   "execution_count": 208,
   "id": "dded97f0",
   "metadata": {},
   "outputs": [
    {
     "data": {
      "text/plain": [
       "city\n",
       "Bradshawfurt      10\n",
       "Garzaport          3\n",
       "Harringtonfort     6\n",
       "Jessicaport        6\n",
       "Lake Jamie         6\n",
       "Name: ride_id, dtype: int64"
      ]
     },
     "execution_count": 208,
     "metadata": {},
     "output_type": "execute_result"
    }
   ],
   "source": [
    "# Create the Rural ride count\n",
    "rural_ride_count = rural_cities_df.groupby([\"city\"]).count()[\"ride_id\"]\n",
    "rural_ride_count.head()"
   ]
  },
  {
   "cell_type": "code",
   "execution_count": 209,
   "id": "3a469eef",
   "metadata": {},
   "outputs": [
    {
     "data": {
      "text/plain": [
       "city\n",
       "Amandaburgh        24.641667\n",
       "Barajasview        25.332273\n",
       "Carriemouth        28.314444\n",
       "Christopherfurt    24.501852\n",
       "Deanville          25.842632\n",
       "Name: fare, dtype: float64"
      ]
     },
     "execution_count": 209,
     "metadata": {},
     "output_type": "execute_result"
    }
   ],
   "source": [
    "# Chaining the groupby() function with the mean() will give us the averages for each city\n",
    "# Get average fare for each city in the urban cities\n",
    "urban_avg_fare = urban_cities_df.groupby([\"city\"]).mean()[\"fare\"]\n",
    "urban_avg_fare.head()"
   ]
  },
  {
   "cell_type": "code",
   "execution_count": 210,
   "id": "8a1e2a48",
   "metadata": {},
   "outputs": [
    {
     "data": {
      "text/plain": [
       "city\n",
       "Barronchester    36.422500\n",
       "Bethanyland      32.956111\n",
       "Brandonfort      35.437368\n",
       "Colemanland      30.894545\n",
       "Davidfurt        31.995882\n",
       "Name: fare, dtype: float64"
      ]
     },
     "execution_count": 210,
     "metadata": {},
     "output_type": "execute_result"
    }
   ],
   "source": [
    "# Noice\n",
    "# Now lets do the others\n",
    "suburban_avg_fare = suburban_cities_df.groupby([\"city\"]).mean()[\"fare\"]\n",
    "suburban_avg_fare.head()"
   ]
  },
  {
   "cell_type": "code",
   "execution_count": 211,
   "id": "979e39b7",
   "metadata": {},
   "outputs": [
    {
     "data": {
      "text/plain": [
       "city\n",
       "Bradshawfurt      40.064000\n",
       "Garzaport         24.123333\n",
       "Harringtonfort    33.470000\n",
       "Jessicaport       36.013333\n",
       "Lake Jamie        34.358333\n",
       "Name: fare, dtype: float64"
      ]
     },
     "execution_count": 211,
     "metadata": {},
     "output_type": "execute_result"
    }
   ],
   "source": [
    "rural_avg_fare = rural_cities_df.groupby([\"city\"]).mean()[\"fare\"]\n",
    "rural_avg_fare.head()"
   ]
  },
  {
   "cell_type": "code",
   "execution_count": 212,
   "id": "8aac5610",
   "metadata": {},
   "outputs": [
    {
     "data": {
      "text/plain": [
       "city\n",
       "Amandaburgh        12.0\n",
       "Barajasview        26.0\n",
       "Carriemouth        52.0\n",
       "Christopherfurt    41.0\n",
       "Deanville          49.0\n",
       "Name: driver_count, dtype: float64"
      ]
     },
     "execution_count": 212,
     "metadata": {},
     "output_type": "execute_result"
    }
   ],
   "source": [
    "# Get the average number of drivers for ach urban city.\n",
    "urban_driver_count = urban_cities_df.groupby([\"city\"]).mean()[\"driver_count\"]\n",
    "urban_driver_count.head()"
   ]
  },
  {
   "cell_type": "code",
   "execution_count": 213,
   "id": "84f8411e",
   "metadata": {},
   "outputs": [
    {
     "data": {
      "text/plain": [
       "city\n",
       "Barronchester    11.0\n",
       "Bethanyland      22.0\n",
       "Brandonfort      10.0\n",
       "Colemanland      23.0\n",
       "Davidfurt        23.0\n",
       "Name: driver_count, dtype: float64"
      ]
     },
     "execution_count": 213,
     "metadata": {},
     "output_type": "execute_result"
    }
   ],
   "source": [
    "suburban_driver_count = suburban_cities_df.groupby([\"city\"]).mean()[\"driver_count\"]\n",
    "suburban_driver_count.head()"
   ]
  },
  {
   "cell_type": "code",
   "execution_count": 214,
   "id": "f24a9b56",
   "metadata": {},
   "outputs": [
    {
     "data": {
      "text/plain": [
       "city\n",
       "Bradshawfurt      7.0\n",
       "Garzaport         7.0\n",
       "Harringtonfort    4.0\n",
       "Jessicaport       1.0\n",
       "Lake Jamie        4.0\n",
       "Name: driver_count, dtype: float64"
      ]
     },
     "execution_count": 214,
     "metadata": {},
     "output_type": "execute_result"
    }
   ],
   "source": [
    "rural_driver_count = rural_cities_df.groupby([\"city\"]).mean()[\"driver_count\"]\n",
    "rural_driver_count.head()"
   ]
  },
  {
   "cell_type": "code",
   "execution_count": 215,
   "id": "c400adec",
   "metadata": {},
   "outputs": [
    {
     "data": {
      "text/plain": [
       "<matplotlib.collections.PathCollection at 0x7fca9b3048b0>"
      ]
     },
     "execution_count": 215,
     "metadata": {},
     "output_type": "execute_result"
    },
    {
     "data": {
      "image/png": "[encoded data removed]",
      "text/plain": [
       "<Figure size 432x288 with 1 Axes>"
      ]
     },
     "metadata": {
      "needs_background": "light"
     },
     "output_type": "display_data"
    }
   ],
   "source": [
    "# Build the scatter plots for urban cities.\n",
    "plt.scatter(urban_ride_count, \n",
    "            urban_avg_fare,\n",
    "           s=urban_driver_count)"
   ]
  },
  {
   "cell_type": "code",
   "execution_count": 216,
   "id": "c9dee63d",
   "metadata": {},
   "outputs": [
    {
     "data": {
      "text/plain": [
       "<matplotlib.legend.Legend at 0x7fca9b31a490>"
      ]
     },
     "execution_count": 216,
     "metadata": {},
     "output_type": "execute_result"
    },
    {
     "data": {
      "image/png": "[encoded data removed]",
      "text/plain": [
       "<Figure size 432x288 with 1 Axes>"
      ]
     },
     "metadata": {
      "needs_background": "light"
     },
     "output_type": "display_data"
    }
   ],
   "source": [
    "# Build the scatter plots for urban cities\n",
    "plt.scatter(urban_ride_count,\n",
    "            urban_avg_fare,\n",
    "            s=10*urban_driver_count, c=\"coral\",\n",
    "            edgecolor=\"black\", linewidths=1,\n",
    "            alpha=0.8, label=\"Urban\")\n",
    "plt.title(\"PyBer Ride Sharing Data (2019)\")\n",
    "plt.xlabel(\"Total Number of Rides(Per City)\")\n",
    "plt.ylabel(\"Average Fare($)\")\n",
    "plt.grid(True)\n",
    "# Add the legend\n",
    "plt.legend()"
   ]
  },
  {
   "cell_type": "code",
   "execution_count": 217,
   "id": "f55ebe47",
   "metadata": {},
   "outputs": [
    {
     "data": {
      "text/plain": [
       "<matplotlib.legend.Legend at 0x7fca88438340>"
      ]
     },
     "execution_count": 217,
     "metadata": {},
     "output_type": "execute_result"
    },
    {
     "data": {
      "image/png": "[encoded data removed]",
      "text/plain": [
       "<Figure size 432x288 with 1 Axes>"
      ]
     },
     "metadata": {
      "needs_background": "light"
     },
     "output_type": "display_data"
    }
   ],
   "source": [
    "# Build the scatter plots for suburban cities\n",
    "plt.scatter(suburban_ride_count,\n",
    "           suburban_avg_fare,\n",
    "           s=10*suburban_driver_count, c=\"skyblue\",\n",
    "           edgecolor=\"black\", linewidths=1,\n",
    "           alpha=0.8, label=\"Suburban\")\n",
    "plt.title(\"PyBer Ride-Sharing Data (2019)\")\n",
    "plt.ylabel(\"Average Fare ($)\")\n",
    "plt.xlabel(\"Total Number of Rides (Per City)\")\n",
    "plt.grid(True)\n",
    "# Add the legend.\n",
    "plt.legend()"
   ]
  },
  {
   "cell_type": "code",
   "execution_count": 218,
   "id": "afd12d56",
   "metadata": {},
   "outputs": [
    {
     "data": {
      "text/plain": [
       "<matplotlib.legend.Legend at 0x7fca68480370>"
      ]
     },
     "execution_count": 218,
     "metadata": {},
     "output_type": "execute_result"
    },
    {
     "data": {
      "image/png": "[encoded data removed]",
      "text/plain": [
       "<Figure size 432x288 with 1 Axes>"
      ]
     },
     "metadata": {
      "needs_background": "light"
     },
     "output_type": "display_data"
    }
   ],
   "source": [
    "# Build the scatter plots for rural cities\n",
    "plt.scatter(rural_ride_count,\n",
    "           rural_avg_fare,\n",
    "           s=10*rural_driver_count, c=\"gold\",\n",
    "           edgecolor=\"black\", linewidths=1,\n",
    "           alpha=0.8, label=\"Rural\")\n",
    "plt.title(\"PyBer Ride-Sharing Data (2019)\")\n",
    "plt.ylabel(\"Average Fare ($)\")\n",
    "plt.xlabel(\"Total Number of Rides (Per City)\")\n",
    "plt.grid(True)\n",
    "# Add the legend.\n",
    "plt.legend()"
   ]
  },
  {
   "cell_type": "code",
   "execution_count": 219,
   "id": "68bbd714",
   "metadata": {},
   "outputs": [
    {
     "data": {
      "image/png": "[encoded data removed]",
      "text/plain": [
       "<Figure size 432x288 with 1 Axes>"
      ]
     },
     "metadata": {
      "needs_background": "light"
     },
     "output_type": "display_data"
    }
   ],
   "source": [
    "# Combining the three scatter plots in one cell will show them all at the same time\n",
    "# Add the scatter charts for each type of city.\n",
    "plt.scatter(urban_ride_count,\n",
    "      urban_avg_fare,\n",
    "      s=10*urban_driver_count, c=\"coral\",\n",
    "      edgecolor=\"black\", linewidths=1,\n",
    "      alpha=0.8, label=\"Urban\")\n",
    "\n",
    "plt.scatter(suburban_ride_count,\n",
    "      suburban_avg_fare,\n",
    "      s=10*suburban_driver_count, c=\"skyblue\",\n",
    "      edgecolor=\"black\", linewidths=1,\n",
    "      alpha=0.8, label=\"Suburban\")\n",
    "\n",
    "plt.scatter(rural_ride_count,\n",
    "      rural_avg_fare,\n",
    "      s=10*rural_driver_count, c=\"gold\",\n",
    "      edgecolor=\"black\", linewidths=1,\n",
    "      alpha=0.8, label=\"Rural\")\n",
    "plt.title(\"PyBer Ride-Sharing Data (2019)\", fontsize=18)\n",
    "plt.ylabel(\"Average Fare ($)\", fontsize=12)\n",
    "plt.xlabel(\"Total Number of Rides (Per City)\", fontsize=12)\n",
    "plt.grid(True)\n",
    "# Add the legend.\n",
    "plt.legend()\n",
    "# Show the plot\n",
    "plt.show()"
   ]
  },
  {
   "cell_type": "code",
   "execution_count": 220,
   "id": "6d0bd67e",
   "metadata": {},
   "outputs": [],
   "source": [
    "# Create a legend\n",
    "#lgnd = plt.legend(fontsize=\"12\", mode=\"Expanded\",\n",
    "        # scatterpoints=1, loc=\"best\", title=\"City Types\")\n",
    "#lgnd.legendHandles[0]._sizes = [75]\n",
    "#lgnd.legendHandles[1]._sizes = [75]\n",
    "#lgnd.legendHandles[2]._sizes = [75]\n",
    "#lgnd.get_title().set_fontsize(12)\n",
    "# Incorporate a text label about circle size.\n",
    "# x, between 0 and 42; and y, between 18 and 50\n",
    "#plt.text(42, 35, \"Note: Circle size correlates with driver count per city.\", fontsize=\"12\")\n",
    "# Save the figure.\n",
    "#plt.savefig(\"analysis/Fig1.png\")"
   ]
  },
  {
   "cell_type": "code",
   "execution_count": 221,
   "id": "1cbf7fdd",
   "metadata": {},
   "outputs": [
    {
     "data": {
      "text/html": [
       "<div>\n",
       "<style scoped>\n",
       "    .dataframe tbody tr th:only-of-type {\n",
       "        vertical-align: middle;\n",
       "    }\n",
       "\n",
       "    .dataframe tbody tr th {\n",
       "        vertical-align: top;\n",
       "    }\n",
       "\n",
       "    .dataframe thead th {\n",
       "        text-align: right;\n",
       "    }\n",
       "</style>\n",
       "<table border=\"1\" class=\"dataframe\">\n",
       "  <thead>\n",
       "    <tr style=\"text-align: right;\">\n",
       "      <th></th>\n",
       "      <th>fare</th>\n",
       "      <th>ride_id</th>\n",
       "      <th>driver_count</th>\n",
       "    </tr>\n",
       "  </thead>\n",
       "  <tbody>\n",
       "    <tr>\n",
       "      <th>count</th>\n",
       "      <td>1625.000000</td>\n",
       "      <td>1.625000e+03</td>\n",
       "      <td>1625.000000</td>\n",
       "    </tr>\n",
       "    <tr>\n",
       "      <th>mean</th>\n",
       "      <td>24.525772</td>\n",
       "      <td>4.873485e+12</td>\n",
       "      <td>36.678154</td>\n",
       "    </tr>\n",
       "    <tr>\n",
       "      <th>std</th>\n",
       "      <td>11.738649</td>\n",
       "      <td>2.907440e+12</td>\n",
       "      <td>20.075545</td>\n",
       "    </tr>\n",
       "    <tr>\n",
       "      <th>min</th>\n",
       "      <td>4.050000</td>\n",
       "      <td>1.458810e+10</td>\n",
       "      <td>3.000000</td>\n",
       "    </tr>\n",
       "    <tr>\n",
       "      <th>25%</th>\n",
       "      <td>14.550000</td>\n",
       "      <td>2.400244e+12</td>\n",
       "      <td>22.000000</td>\n",
       "    </tr>\n",
       "    <tr>\n",
       "      <th>50%</th>\n",
       "      <td>24.640000</td>\n",
       "      <td>4.711188e+12</td>\n",
       "      <td>37.000000</td>\n",
       "    </tr>\n",
       "    <tr>\n",
       "      <th>75%</th>\n",
       "      <td>34.580000</td>\n",
       "      <td>7.451579e+12</td>\n",
       "      <td>52.000000</td>\n",
       "    </tr>\n",
       "    <tr>\n",
       "      <th>max</th>\n",
       "      <td>44.970000</td>\n",
       "      <td>9.991538e+12</td>\n",
       "      <td>73.000000</td>\n",
       "    </tr>\n",
       "  </tbody>\n",
       "</table>\n",
       "</div>"
      ],
      "text/plain": [
       "              fare       ride_id  driver_count\n",
       "count  1625.000000  1.625000e+03   1625.000000\n",
       "mean     24.525772  4.873485e+12     36.678154\n",
       "std      11.738649  2.907440e+12     20.075545\n",
       "min       4.050000  1.458810e+10      3.000000\n",
       "25%      14.550000  2.400244e+12     22.000000\n",
       "50%      24.640000  4.711188e+12     37.000000\n",
       "75%      34.580000  7.451579e+12     52.000000\n",
       "max      44.970000  9.991538e+12     73.000000"
      ]
     },
     "execution_count": 221,
     "metadata": {},
     "output_type": "execute_result"
    }
   ],
   "source": [
    "# Get summary statistics.\n",
    "urban_cities_df.describe()"
   ]
  },
  {
   "cell_type": "code",
   "execution_count": 222,
   "id": "874cbda6",
   "metadata": {},
   "outputs": [
    {
     "data": {
      "text/html": [
       "<div>\n",
       "<style scoped>\n",
       "    .dataframe tbody tr th:only-of-type {\n",
       "        vertical-align: middle;\n",
       "    }\n",
       "\n",
       "    .dataframe tbody tr th {\n",
       "        vertical-align: top;\n",
       "    }\n",
       "\n",
       "    .dataframe thead th {\n",
       "        text-align: right;\n",
       "    }\n",
       "</style>\n",
       "<table border=\"1\" class=\"dataframe\">\n",
       "  <thead>\n",
       "    <tr style=\"text-align: right;\">\n",
       "      <th></th>\n",
       "      <th>fare</th>\n",
       "      <th>ride_id</th>\n",
       "      <th>driver_count</th>\n",
       "    </tr>\n",
       "  </thead>\n",
       "  <tbody>\n",
       "    <tr>\n",
       "      <th>count</th>\n",
       "      <td>625.000000</td>\n",
       "      <td>6.250000e+02</td>\n",
       "      <td>625.000000</td>\n",
       "    </tr>\n",
       "    <tr>\n",
       "      <th>mean</th>\n",
       "      <td>30.970128</td>\n",
       "      <td>4.971015e+12</td>\n",
       "      <td>13.712000</td>\n",
       "    </tr>\n",
       "    <tr>\n",
       "      <th>std</th>\n",
       "      <td>10.677508</td>\n",
       "      <td>2.912410e+12</td>\n",
       "      <td>8.042372</td>\n",
       "    </tr>\n",
       "    <tr>\n",
       "      <th>min</th>\n",
       "      <td>12.050000</td>\n",
       "      <td>3.218337e+08</td>\n",
       "      <td>1.000000</td>\n",
       "    </tr>\n",
       "    <tr>\n",
       "      <th>25%</th>\n",
       "      <td>21.970000</td>\n",
       "      <td>2.364253e+12</td>\n",
       "      <td>5.000000</td>\n",
       "    </tr>\n",
       "    <tr>\n",
       "      <th>50%</th>\n",
       "      <td>30.750000</td>\n",
       "      <td>5.053221e+12</td>\n",
       "      <td>16.000000</td>\n",
       "    </tr>\n",
       "    <tr>\n",
       "      <th>75%</th>\n",
       "      <td>39.830000</td>\n",
       "      <td>7.551674e+12</td>\n",
       "      <td>21.000000</td>\n",
       "    </tr>\n",
       "    <tr>\n",
       "      <th>max</th>\n",
       "      <td>49.960000</td>\n",
       "      <td>9.917744e+12</td>\n",
       "      <td>25.000000</td>\n",
       "    </tr>\n",
       "  </tbody>\n",
       "</table>\n",
       "</div>"
      ],
      "text/plain": [
       "             fare       ride_id  driver_count\n",
       "count  625.000000  6.250000e+02    625.000000\n",
       "mean    30.970128  4.971015e+12     13.712000\n",
       "std     10.677508  2.912410e+12      8.042372\n",
       "min     12.050000  3.218337e+08      1.000000\n",
       "25%     21.970000  2.364253e+12      5.000000\n",
       "50%     30.750000  5.053221e+12     16.000000\n",
       "75%     39.830000  7.551674e+12     21.000000\n",
       "max     49.960000  9.917744e+12     25.000000"
      ]
     },
     "execution_count": 222,
     "metadata": {},
     "output_type": "execute_result"
    }
   ],
   "source": [
    "suburban_cities_df.describe()"
   ]
  },
  {
   "cell_type": "code",
   "execution_count": 223,
   "id": "4eafe86d",
   "metadata": {},
   "outputs": [
    {
     "data": {
      "text/html": [
       "<div>\n",
       "<style scoped>\n",
       "    .dataframe tbody tr th:only-of-type {\n",
       "        vertical-align: middle;\n",
       "    }\n",
       "\n",
       "    .dataframe tbody tr th {\n",
       "        vertical-align: top;\n",
       "    }\n",
       "\n",
       "    .dataframe thead th {\n",
       "        text-align: right;\n",
       "    }\n",
       "</style>\n",
       "<table border=\"1\" class=\"dataframe\">\n",
       "  <thead>\n",
       "    <tr style=\"text-align: right;\">\n",
       "      <th></th>\n",
       "      <th>fare</th>\n",
       "      <th>ride_id</th>\n",
       "      <th>driver_count</th>\n",
       "    </tr>\n",
       "  </thead>\n",
       "  <tbody>\n",
       "    <tr>\n",
       "      <th>count</th>\n",
       "      <td>125.000000</td>\n",
       "      <td>1.250000e+02</td>\n",
       "      <td>125.000000</td>\n",
       "    </tr>\n",
       "    <tr>\n",
       "      <th>mean</th>\n",
       "      <td>34.623440</td>\n",
       "      <td>4.647746e+12</td>\n",
       "      <td>4.296000</td>\n",
       "    </tr>\n",
       "    <tr>\n",
       "      <th>std</th>\n",
       "      <td>14.558046</td>\n",
       "      <td>2.887834e+12</td>\n",
       "      <td>2.691156</td>\n",
       "    </tr>\n",
       "    <tr>\n",
       "      <th>min</th>\n",
       "      <td>10.110000</td>\n",
       "      <td>2.684873e+10</td>\n",
       "      <td>1.000000</td>\n",
       "    </tr>\n",
       "    <tr>\n",
       "      <th>25%</th>\n",
       "      <td>19.900000</td>\n",
       "      <td>2.275364e+12</td>\n",
       "      <td>1.000000</td>\n",
       "    </tr>\n",
       "    <tr>\n",
       "      <th>50%</th>\n",
       "      <td>37.050000</td>\n",
       "      <td>4.023962e+12</td>\n",
       "      <td>4.000000</td>\n",
       "    </tr>\n",
       "    <tr>\n",
       "      <th>75%</th>\n",
       "      <td>47.070000</td>\n",
       "      <td>7.118047e+12</td>\n",
       "      <td>7.000000</td>\n",
       "    </tr>\n",
       "    <tr>\n",
       "      <th>max</th>\n",
       "      <td>58.550000</td>\n",
       "      <td>9.990581e+12</td>\n",
       "      <td>9.000000</td>\n",
       "    </tr>\n",
       "  </tbody>\n",
       "</table>\n",
       "</div>"
      ],
      "text/plain": [
       "             fare       ride_id  driver_count\n",
       "count  125.000000  1.250000e+02    125.000000\n",
       "mean    34.623440  4.647746e+12      4.296000\n",
       "std     14.558046  2.887834e+12      2.691156\n",
       "min     10.110000  2.684873e+10      1.000000\n",
       "25%     19.900000  2.275364e+12      1.000000\n",
       "50%     37.050000  4.023962e+12      4.000000\n",
       "75%     47.070000  7.118047e+12      7.000000\n",
       "max     58.550000  9.990581e+12      9.000000"
      ]
     },
     "execution_count": 223,
     "metadata": {},
     "output_type": "execute_result"
    }
   ],
   "source": [
    "rural_cities_df.describe()"
   ]
  },
  {
   "cell_type": "code",
   "execution_count": 224,
   "id": "0af4a106",
   "metadata": {},
   "outputs": [
    {
     "data": {
      "text/plain": [
       "count    66.000000\n",
       "mean     24.621212\n",
       "std       5.408726\n",
       "min      12.000000\n",
       "25%      21.000000\n",
       "50%      24.000000\n",
       "75%      28.000000\n",
       "max      39.000000\n",
       "Name: ride_id, dtype: float64"
      ]
     },
     "execution_count": 224,
     "metadata": {},
     "output_type": "execute_result"
    }
   ],
   "source": [
    "# Get summary statistics.\n",
    "urban_ride_count.describe()\n"
   ]
  },
  {
   "cell_type": "code",
   "execution_count": 225,
   "id": "5a20d31e",
   "metadata": {},
   "outputs": [
    {
     "data": {
      "text/plain": [
       "count    36.000000\n",
       "mean     17.361111\n",
       "std       4.323707\n",
       "min       9.000000\n",
       "25%      14.000000\n",
       "50%      17.000000\n",
       "75%      19.250000\n",
       "max      27.000000\n",
       "Name: ride_id, dtype: float64"
      ]
     },
     "execution_count": 225,
     "metadata": {},
     "output_type": "execute_result"
    }
   ],
   "source": [
    "suburban_ride_count.describe()"
   ]
  },
  {
   "cell_type": "code",
   "execution_count": 226,
   "id": "f96a43b0",
   "metadata": {},
   "outputs": [
    {
     "data": {
      "text/plain": [
       "count    18.000000\n",
       "mean      6.944444\n",
       "std       2.508157\n",
       "min       3.000000\n",
       "25%       5.250000\n",
       "50%       6.000000\n",
       "75%       8.750000\n",
       "max      12.000000\n",
       "Name: ride_id, dtype: float64"
      ]
     },
     "execution_count": 226,
     "metadata": {},
     "output_type": "execute_result"
    }
   ],
   "source": [
    "rural_ride_count.describe()"
   ]
  },
  {
   "cell_type": "code",
   "execution_count": 227,
   "id": "77788c0d",
   "metadata": {},
   "outputs": [
    {
     "data": {
      "text/plain": [
       "(24.62, 17.36, 6.94)"
      ]
     },
     "execution_count": 227,
     "metadata": {},
     "output_type": "execute_result"
    }
   ],
   "source": [
    "# Calculate the mean of the ride count for each city type\n",
    "round(urban_ride_count.mean(),2), round(suburban_ride_count.mean(),2), round(rural_ride_count.mean(),2)"
   ]
  },
  {
   "cell_type": "code",
   "execution_count": 228,
   "id": "13171b73",
   "metadata": {},
   "outputs": [
    {
     "data": {
      "text/plain": [
       "(24.0, 17.0, 6.0)"
      ]
     },
     "execution_count": 228,
     "metadata": {},
     "output_type": "execute_result"
    }
   ],
   "source": [
    "round(urban_ride_count.median(),2), round(suburban_ride_count.median(),2), round(rural_ride_count.median(),2)"
   ]
  },
  {
   "cell_type": "code",
   "execution_count": 229,
   "id": "19272596",
   "metadata": {},
   "outputs": [
    {
     "data": {
      "text/plain": [
       "(0    22\n",
       " 1    25\n",
       " dtype: int64,\n",
       " 0    17\n",
       " dtype: int64,\n",
       " 0    6\n",
       " dtype: int64)"
      ]
     },
     "execution_count": 229,
     "metadata": {},
     "output_type": "execute_result"
    }
   ],
   "source": [
    "round(urban_ride_count.mode(),2), round(suburban_ride_count.mode(),2), round(rural_ride_count.mode(),2)"
   ]
  },
  {
   "cell_type": "code",
   "execution_count": 230,
   "id": "cb231534",
   "metadata": {},
   "outputs": [],
   "source": [
    "# Import NumPy and the stats module from SciPy.\n",
    "# Specifically to work in Python\n",
    "import numpy as np\n",
    "import scipy.stats as sts"
   ]
  },
  {
   "cell_type": "code",
   "execution_count": 231,
   "id": "b97c5af1",
   "metadata": {},
   "outputs": [
    {
     "name": "stdout",
     "output_type": "stream",
     "text": [
      "The mean for the ride counts for urban trips is 24.62.\n",
      "The median for the ride counts for urban trips is 24.0.\n",
      "The mode for the ride counts for urban trips is ModeResult(mode=array([22]), count=array([7])).\n"
     ]
    }
   ],
   "source": [
    "# Calculate the measures of central tendency for the ride count for the urban cities.\n",
    "mean_urban_ride_count = np.mean(urban_ride_count)\n",
    "print(f\"The mean for the ride counts for urban trips is {mean_urban_ride_count:.2f}.\")\n",
    "\n",
    "median_urban_ride_count = np.median(urban_ride_count)\n",
    "print(f\"The median for the ride counts for urban trips is {median_urban_ride_count}.\")\n",
    "\n",
    "mode_urban_ride_count = sts.mode(urban_ride_count)\n",
    "print(f\"The mode for the ride counts for urban trips is {mode_urban_ride_count}.\")"
   ]
  },
  {
   "cell_type": "code",
   "execution_count": 232,
   "id": "b394e199",
   "metadata": {},
   "outputs": [
    {
     "name": "stdout",
     "output_type": "stream",
     "text": [
      "The mean for the ride counts for urban trips is 17.36.\n",
      "The median for the ride counts for urban trips is 17.0.\n",
      "The mode for the ride counts for urban trips is ModeResult(mode=array([17]), count=array([7])).\n"
     ]
    }
   ],
   "source": [
    "# Calculate the measures of central tendency for the ride count for the urban cities.\n",
    "mean_suburban_ride_count = np.mean(suburban_ride_count)\n",
    "print(f\"The mean for the ride counts for urban trips is {mean_suburban_ride_count:.2f}.\")\n",
    "\n",
    "median_suburban_ride_count = np.median(suburban_ride_count)\n",
    "print(f\"The median for the ride counts for urban trips is {median_suburban_ride_count}.\")\n",
    "\n",
    "mode_suburban_ride_count = sts.mode(suburban_ride_count)\n",
    "print(f\"The mode for the ride counts for urban trips is {mode_suburban_ride_count}.\")"
   ]
  },
  {
   "cell_type": "code",
   "execution_count": 233,
   "id": "3b50f00b",
   "metadata": {},
   "outputs": [
    {
     "name": "stdout",
     "output_type": "stream",
     "text": [
      "The mean for the ride counts for urban trips is 6.94.\n",
      "The median for the ride counts for urban trips is 6.0.\n",
      "The mode for the ride counts for urban trips is ModeResult(mode=array([6]), count=array([5])).\n"
     ]
    }
   ],
   "source": [
    "# Calculate the measures of central tendency for the ride count for the urban cities.\n",
    "mean_rural_ride_count = np.mean(rural_ride_count)\n",
    "print(f\"The mean for the ride counts for urban trips is {mean_rural_ride_count:.2f}.\")\n",
    "\n",
    "median_rural_ride_count = np.median(rural_ride_count)\n",
    "print(f\"The median for the ride counts for urban trips is {median_rural_ride_count}.\")\n",
    "\n",
    "mode_rural_ride_count = sts.mode(rural_ride_count)\n",
    "print(f\"The mode for the ride counts for urban trips is {mode_rural_ride_count}.\")"
   ]
  },
  {
   "cell_type": "code",
   "execution_count": 234,
   "id": "ef98ad1c",
   "metadata": {},
   "outputs": [
    {
     "data": {
      "text/plain": [
       "0    13.83\n",
       "1    30.24\n",
       "2    33.44\n",
       "3    23.44\n",
       "4    34.58\n",
       "Name: fare, dtype: float64"
      ]
     },
     "execution_count": 234,
     "metadata": {},
     "output_type": "execute_result"
    }
   ],
   "source": [
    "#Get the fares for the urban cities\n",
    "urban_fares = urban_cities_df[\"fare\"]\n",
    "urban_fares.head()"
   ]
  },
  {
   "cell_type": "code",
   "execution_count": 235,
   "id": "c2fb6316",
   "metadata": {},
   "outputs": [],
   "source": [
    "suburban_fares = suburban_cities_df[\"fare\"]"
   ]
  },
  {
   "cell_type": "code",
   "execution_count": 236,
   "id": "94108ae0",
   "metadata": {},
   "outputs": [],
   "source": [
    "rural_fares = rural_cities_df[\"fare\"]"
   ]
  },
  {
   "cell_type": "code",
   "execution_count": 237,
   "id": "019c49ec",
   "metadata": {},
   "outputs": [
    {
     "name": "stdout",
     "output_type": "stream",
     "text": [
      " The mean fare price for urban trips is $24.53.\n",
      " The median fare price for urban trips is $24.64.\n",
      " The mode fare price for urban trips is ModeResult(mode=array([22.86]), count=array([5])).\n"
     ]
    }
   ],
   "source": [
    "# Calculate the measures of central tendency for the average fare for utban\n",
    "mean_urban_fares = np.mean(urban_fares)\n",
    "print(f\" The mean fare price for urban trips is ${mean_urban_fares:.2f}.\")\n",
    "median_urban_fares = np.median(urban_fares)\n",
    "print(f\" The median fare price for urban trips is ${median_urban_fares:.2f}.\")\n",
    "mode_urban_fares = sts.mode(urban_fares)\n",
    "print(f\" The mode fare price for urban trips is {mode_urban_fares}.\")"
   ]
  },
  {
   "cell_type": "code",
   "execution_count": 238,
   "id": "0a5b09f5",
   "metadata": {},
   "outputs": [
    {
     "name": "stdout",
     "output_type": "stream",
     "text": [
      " The mean fare price for suburban trips is $30.97.\n",
      " The median fare price for suburban trips is $30.75.\n",
      " The mode fare price for suburban trips is ModeResult(mode=array([17.99]), count=array([3])).\n"
     ]
    }
   ],
   "source": [
    "# Calculate the measures of central tendency for the average fare for suburban\n",
    "mean_suburban_fares = np.mean(suburban_fares)\n",
    "print(f\" The mean fare price for suburban trips is ${mean_suburban_fares:.2f}.\")\n",
    "median_suburban_fares = np.median(suburban_fares)\n",
    "print(f\" The median fare price for suburban trips is ${median_suburban_fares:.2f}.\")\n",
    "mode_suburban_fares = sts.mode(suburban_fares)\n",
    "print(f\" The mode fare price for suburban trips is {mode_suburban_fares}.\")"
   ]
  },
  {
   "cell_type": "code",
   "execution_count": 239,
   "id": "2b8533b6",
   "metadata": {},
   "outputs": [
    {
     "name": "stdout",
     "output_type": "stream",
     "text": [
      " The mean fare price for rural trips is $34.62.\n",
      " The median fare price for rural trips is $37.05.\n",
      " The mode fare price for rural trips is ModeResult(mode=array([37.05]), count=array([2])).\n"
     ]
    }
   ],
   "source": [
    "# Calculate the measures of central tendency for the average fare for utban\n",
    "mean_rural_fares = np.mean(rural_fares)\n",
    "print(f\" The mean fare price for rural trips is ${mean_rural_fares:.2f}.\")\n",
    "median_rural_fares = np.median(rural_fares)\n",
    "print(f\" The median fare price for rural trips is ${median_rural_fares:.2f}.\")\n",
    "mode_rural_fares = sts.mode(rural_fares)\n",
    "print(f\" The mode fare price for rural trips is {mode_rural_fares}.\")"
   ]
  },
  {
   "cell_type": "code",
   "execution_count": 240,
   "id": "aa6cc989",
   "metadata": {},
   "outputs": [
    {
     "data": {
      "text/plain": [
       "0     5\n",
       "1    72\n",
       "2    57\n",
       "3    34\n",
       "4    46\n",
       "Name: driver_count, dtype: int64"
      ]
     },
     "execution_count": 240,
     "metadata": {},
     "output_type": "execute_result"
    }
   ],
   "source": [
    "# Get the driver count data from the urban cities.\n",
    "urban_drivers = urban_cities_df['driver_count']\n",
    "urban_drivers.head()"
   ]
  },
  {
   "cell_type": "code",
   "execution_count": null,
   "id": "d70e13f7",
   "metadata": {},
   "outputs": [],
   "source": [
    "suburban_drives = suburban_cities_df.[\"driver_count\"]\n",
    "suburban_drivers.head()"
   ]
  }
 ],
 "metadata": {
  "kernelspec": {
   "display_name": "Python 3.9.7 64-bit ('base': conda)",
   "language": "python",
   "name": "python397jvsc74a57bd040d3a090f54c6569ab1632332b64b2c03c39dcf918b08424e98f38b5ae0af88f"
  },
  "language_info": {
   "codemirror_mode": {
    "name": "ipython",
    "version": 3
   },
   "file_extension": ".py",
   "mimetype": "text/x-python",
   "name": "python",
   "nbconvert_exporter": "python",
   "pygments_lexer": "ipython3",
   "version": "3.9.7"
  }
 },
 "nbformat": 4,
 "nbformat_minor": 5
}
